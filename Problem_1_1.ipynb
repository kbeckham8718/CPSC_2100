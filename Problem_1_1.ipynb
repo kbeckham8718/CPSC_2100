{
  "nbformat": 4,
  "nbformat_minor": 0,
  "metadata": {
    "colab": {
      "provenance": [],
      "authorship_tag": "ABX9TyPKLPWvqADbqWayIsli/Mw+",
      "include_colab_link": true
    },
    "kernelspec": {
      "name": "python3",
      "display_name": "Python 3"
    },
    "language_info": {
      "name": "python"
    }
  },
  "cells": [
    {
      "cell_type": "markdown",
      "metadata": {
        "id": "view-in-github",
        "colab_type": "text"
      },
      "source": [
        "<a href=\"https://colab.research.google.com/github/kbeckham8718/CPSC_2100/blob/main/Problem_1_1.ipynb\" target=\"_parent\"><img src=\"https://colab.research.google.com/assets/colab-badge.svg\" alt=\"Open In Colab\"/></a>"
      ]
    },
    {
      "cell_type": "code",
      "execution_count": null,
      "metadata": {
        "id": "K77SjdbBvi-b"
      },
      "outputs": [],
      "source": [
        "s = input(\"Enter a string: \")\n",
        "count = 0\n",
        "vowels = set(\"aeiou\")\n",
        "counted_vowels = set()\n",
        "\n",
        "for ch in s:\n",
        "    ch_lower = ch.lower()\n",
        "    if ch_lower in vowels and ch_lower not in counted_vowels:\n",
        "        count += 1\n",
        "        counted_vowels.add(ch_lower)\n",
        "print(\"The Number of Vowels is:\", count)\n"
      ]
    }
  ]
}